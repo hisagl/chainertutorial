{
 "cells": [
  {
   "cell_type": "markdown",
   "metadata": {},
   "source": [
    "# \"2. Python 入門\" の演習問題\n",
    "## 問2.1 (組み込み関数)\n",
    "### Python には2章で紹介した以外にも数多くの組み込み関数が定義されています。組み込み関数を適切に使うことでコードを簡潔に記せます。a=[4, 8, 3, 4, 1] というリストに対して以下の操作を行う組み込み関数を公式ドキュメントからそれぞれ探し、適用して下さい。すなわち、以下のコードセル中の FUNC の部分を適切な組み込み関数に置き換えてください。\n",
    "\n",
    "- リスト a の長さを求める。\n",
    "- リスト a に含まれる値の最大値を求める。\n",
    "- リスト a に含まれる値の最小値を求める。\n",
    "- リスト a に含まれる値の合計値を求める。\n",
    "- リスト a をソートして、[1, 3, 4, 4, 8] というリストを返す。"
   ]
  },
  {
   "cell_type": "code",
   "execution_count": 1,
   "metadata": {},
   "outputs": [
    {
     "name": "stdout",
     "output_type": "stream",
     "text": [
      "5\n"
     ]
    }
   ],
   "source": [
    "# リストaの長さを求める\n",
    "\n",
    "a = [4, 8, 3, 4, 1]\n",
    "res = len(a)\n",
    "print(res)"
   ]
  },
  {
   "cell_type": "code",
   "execution_count": 2,
   "metadata": {},
   "outputs": [
    {
     "name": "stdout",
     "output_type": "stream",
     "text": [
      "8\n"
     ]
    }
   ],
   "source": [
    "# リストaに含まれる値の最大値を求める\n",
    "\n",
    "a = [4, 8, 3, 4, 1]\n",
    "res = max(a)\n",
    "print(res)"
   ]
  },
  {
   "cell_type": "code",
   "execution_count": 3,
   "metadata": {},
   "outputs": [
    {
     "name": "stdout",
     "output_type": "stream",
     "text": [
      "1\n"
     ]
    }
   ],
   "source": [
    "# 最小値\n",
    "\n",
    "a = [4, 8, 3, 4, 1]\n",
    "res = min(a)\n",
    "print(res)"
   ]
  },
  {
   "cell_type": "code",
   "execution_count": 4,
   "metadata": {},
   "outputs": [
    {
     "name": "stdout",
     "output_type": "stream",
     "text": [
      "20\n"
     ]
    }
   ],
   "source": [
    "# 合計値\n",
    "\n",
    "a = [4, 8, 3, 4, 1]\n",
    "res = sum(a)\n",
    "print(res)"
   ]
  },
  {
   "cell_type": "code",
   "execution_count": 5,
   "metadata": {},
   "outputs": [
    {
     "name": "stdout",
     "output_type": "stream",
     "text": [
      "[1, 3, 4, 4, 8]\n"
     ]
    }
   ],
   "source": [
    "# ソート（昇順）\n",
    "\n",
    "a = [4, 8, 3, 4, 1]\n",
    "res = sorted(a)\n",
    "print(res)"
   ]
  },
  {
   "cell_type": "markdown",
   "metadata": {},
   "source": [
    "# 問2.2 (演算)\n",
    "## 以下の演算や関数をそれぞれ評価したとき、結果の値と型が何になるか予想してください。実際にコードを実行して、結果が予想と合うか確かめてください。型の確認には type() 関数を使用しましょう。\n",
    "- `1.2 + 3.8`\n",
    "- `10 // 100`\n",
    "- `1 >= 0`\n",
    "- `'Hello World' == 'Hello World'`\n",
    "- `not 'Chainer' != 'Tutorial'`\n",
    "- `all([True, True, False]) (all の定義は公式ドキュメントを参照)`\n",
    "- `any([True, True, False]) (any の定義は公式ドキュメントを参照)`\n",
    "- `abs(-3) (abs の定義は公式ドキュメントを参照)`\n",
    "- `2 // 0`"
   ]
  },
  {
   "cell_type": "code",
   "execution_count": 7,
   "metadata": {},
   "outputs": [
    {
     "name": "stdout",
     "output_type": "stream",
     "text": [
      "5.0 <class 'float'>\n"
     ]
    }
   ],
   "source": [
    "a = 1.2+3.8\n",
    "print(a, type(a))"
   ]
  },
  {
   "cell_type": "code",
   "execution_count": 8,
   "metadata": {},
   "outputs": [
    {
     "name": "stdout",
     "output_type": "stream",
     "text": [
      "0 <class 'int'>\n"
     ]
    }
   ],
   "source": [
    "a = 10 // 100\n",
    "print(a, type(a))"
   ]
  },
  {
   "cell_type": "code",
   "execution_count": 9,
   "metadata": {},
   "outputs": [
    {
     "name": "stdout",
     "output_type": "stream",
     "text": [
      "True <class 'bool'>\n"
     ]
    }
   ],
   "source": [
    "a = 1 >=0\n",
    "print(a, type(a))"
   ]
  },
  {
   "cell_type": "code",
   "execution_count": 10,
   "metadata": {},
   "outputs": [
    {
     "name": "stdout",
     "output_type": "stream",
     "text": [
      "True <class 'bool'>\n"
     ]
    }
   ],
   "source": [
    "a = 'Hello World' == 'Hello World'\n",
    "print(a, type(a))"
   ]
  },
  {
   "cell_type": "code",
   "execution_count": 11,
   "metadata": {},
   "outputs": [
    {
     "name": "stdout",
     "output_type": "stream",
     "text": [
      "False <class 'bool'>\n"
     ]
    }
   ],
   "source": [
    "a = not 'Chainer' != 'Tutorial'\n",
    "print(a, type(a))"
   ]
  },
  {
   "cell_type": "code",
   "execution_count": 15,
   "metadata": {},
   "outputs": [
    {
     "name": "stdout",
     "output_type": "stream",
     "text": [
      "False <class 'bool'>\n"
     ]
    }
   ],
   "source": [
    "# all = リスト内の要素が全て真であればTrueを返す\n",
    "a = all([True, True, False]) \n",
    "print(a, type(a))"
   ]
  },
  {
   "cell_type": "code",
   "execution_count": 16,
   "metadata": {},
   "outputs": [
    {
     "name": "stdout",
     "output_type": "stream",
     "text": [
      "True <class 'bool'>\n"
     ]
    }
   ],
   "source": [
    "# all = リスト内の要素が一つでも真であればTrueを返す\n",
    "a = any([True, True, False])\n",
    "print(a, type(a))"
   ]
  },
  {
   "cell_type": "code",
   "execution_count": 17,
   "metadata": {},
   "outputs": [
    {
     "name": "stdout",
     "output_type": "stream",
     "text": [
      "3 <class 'int'>\n"
     ]
    }
   ],
   "source": [
    "# abs = 絶対値\n",
    "a = abs(-3)\n",
    "print(a, type(a))"
   ]
  },
  {
   "cell_type": "code",
   "execution_count": 18,
   "metadata": {},
   "outputs": [
    {
     "ename": "ZeroDivisionError",
     "evalue": "integer division or modulo by zero",
     "output_type": "error",
     "traceback": [
      "\u001b[0;31m---------------------------------------------------------------------------\u001b[0m",
      "\u001b[0;31mZeroDivisionError\u001b[0m                         Traceback (most recent call last)",
      "\u001b[0;32m<ipython-input-18-8c5edf04e420>\u001b[0m in \u001b[0;36m<module>\u001b[0;34m\u001b[0m\n\u001b[0;32m----> 1\u001b[0;31m \u001b[0ma\u001b[0m \u001b[0;34m=\u001b[0m \u001b[0;36m2\u001b[0m \u001b[0;34m//\u001b[0m \u001b[0;36m0\u001b[0m\u001b[0;34m\u001b[0m\u001b[0m\n\u001b[0m\u001b[1;32m      2\u001b[0m \u001b[0mprint\u001b[0m\u001b[0;34m(\u001b[0m\u001b[0ma\u001b[0m\u001b[0;34m,\u001b[0m \u001b[0mtype\u001b[0m\u001b[0;34m(\u001b[0m\u001b[0ma\u001b[0m\u001b[0;34m)\u001b[0m\u001b[0;34m)\u001b[0m\u001b[0;34m\u001b[0m\u001b[0m\n",
      "\u001b[0;31mZeroDivisionError\u001b[0m: integer division or modulo by zero"
     ]
    }
   ],
   "source": [
    "a = 2 // 0\n",
    "print(a, type(a))"
   ]
  },
  {
   "cell_type": "markdown",
   "metadata": {},
   "source": [
    "## 問2.3 (リストの基本操作)\n",
    "### 機械学習では大量のデータを扱うことが多いため、リストの扱いに慣れておくと便利なことが多いです。 a=[4, 8, 3, 4, 1] というリストに対して以下の操作を行うコードを書いて下さい。\n",
    "- リスト a の先頭の要素を取り除いて、`[8, 3, 4, 1]` となるようにして下さい。\n",
    "- リスト a の末尾の要素を取り除いて、`[4, 8, 3, 4]` となるようにして下さい。\n",
    "- リスト a の末尾に 100 という値を追加して、`[4, 8, 3, 4, 1, 100]` となるようにして下さい。"
   ]
  },
  {
   "cell_type": "code",
   "execution_count": 21,
   "metadata": {},
   "outputs": [
    {
     "name": "stdout",
     "output_type": "stream",
     "text": [
      "4\n"
     ]
    },
    {
     "data": {
      "text/plain": [
       "[8, 3, 4, 1]"
      ]
     },
     "execution_count": 21,
     "metadata": {},
     "output_type": "execute_result"
    }
   ],
   "source": [
    "a = [4, 8, 3, 4, 1]\n",
    "remove_first = a.pop(0)\n",
    "print(remove_first)\n",
    "a"
   ]
  },
  {
   "cell_type": "code",
   "execution_count": 22,
   "metadata": {},
   "outputs": [
    {
     "name": "stdout",
     "output_type": "stream",
     "text": [
      "1\n"
     ]
    },
    {
     "data": {
      "text/plain": [
       "[4, 8, 3, 4]"
      ]
     },
     "execution_count": 22,
     "metadata": {},
     "output_type": "execute_result"
    }
   ],
   "source": [
    "a = [4, 8, 3, 4, 1]\n",
    "remove_end = a.pop(-1)\n",
    "print(remove_end)\n",
    "a"
   ]
  },
  {
   "cell_type": "code",
   "execution_count": 29,
   "metadata": {},
   "outputs": [
    {
     "data": {
      "text/plain": [
       "[4, 8, 3, 4, 1, 100]"
      ]
     },
     "execution_count": 29,
     "metadata": {},
     "output_type": "execute_result"
    }
   ],
   "source": [
    "a = [4, 8, 3, 4, 1]\n",
    "a.append(100)\n",
    "a"
   ]
  },
  {
   "cell_type": "markdown",
   "metadata": {},
   "source": [
    "## 問2.4 (リスト内包表記)\n",
    "### リスト内包表記はリストを生成するための簡潔な手段です。例えば、平方数のリスト [0, 1, 4, 9, 16, ...] を構成したいとき、\n",
    "```\n",
    "    squares = []\n",
    "    for x in range(10):\n",
    "        squares.append(x ** 2)\n",
    "```\n",
    "### と書く代わりに、\n",
    "```\n",
    "    squares = [x ** 2 for x in range(10)]\n",
    "```\n",
    "### と書くことができます。リスト内包表記は一般に `[(式) for (変数) in (iterableオブジェクト)]` という構文を取ります。リスト内包表記の一般的な説明は公式ドキュメントを参照して下さい。リスト内包表記で in の後に続く iterable オブジェクトは range である必要はなく、例えばリストを指定できます。\n",
    "```\n",
    "    a = [4, 8, 3, 4, 1]\n",
    "    squares = [x ** 2 for x in a]\n",
    "    print(squares)  # => [16, 64, 9, 16, 1]\n",
    "```\n",
    "### 以下の問いに答えて下さい。\n",
    "1. `a=[4, 8, 3, 4, 1]` というリストに対し、要素が偶数なら `0`, 奇数なら `1` に変換するコードをリスト内包表記を用いて書いて下さい。この結果、このリストは `[0, 0, 1, 0, 1]` に変換されるべきです。\n",
    "\n",
    "2. 1.で書いたコードと組み込み関数を組み合わせて、リスト `a` に含まれる奇数の個数を数えるコードを書いて下さい。\n",
    "3. リスト内包表記では、if 文を用いることで条件を満たす要素だけをリストに残すことができます。例えば\n",
    "```\n",
    "        b = [x for x in range(10) if x > 5]\n",
    "```\n",
    "と記すと、b は要素が 5 より大きいもののみが残り `[6, 7, 8, 9]` となります。\n",
    "リスト内包表記を使ってリスト `a` から奇数の要素だけを残すコードを書いて下さい。"
   ]
  },
  {
   "cell_type": "code",
   "execution_count": 31,
   "metadata": {},
   "outputs": [
    {
     "name": "stdout",
     "output_type": "stream",
     "text": [
      "[0, 0, 1, 0, 1]\n"
     ]
    }
   ],
   "source": [
    "# 1\n",
    "a = [4, 8, 3, 4, 1]\n",
    "oddeven = [x % 2 for x in a]\n",
    "print(oddeven)"
   ]
  },
  {
   "cell_type": "code",
   "execution_count": 32,
   "metadata": {},
   "outputs": [
    {
     "name": "stdout",
     "output_type": "stream",
     "text": [
      "2\n"
     ]
    }
   ],
   "source": [
    "# 2\n",
    "count = oddeven.count(1)\n",
    "print(count)"
   ]
  },
  {
   "cell_type": "code",
   "execution_count": 40,
   "metadata": {},
   "outputs": [
    {
     "name": "stdout",
     "output_type": "stream",
     "text": [
      "[3, 1]\n"
     ]
    }
   ],
   "source": [
    "# 3 \n",
    "odd =[x for x in a if x % 2 == 1]　#条件式を==じゃなくて=にしてエラー吐いた（凡ミス）\n",
    "print(odd)"
   ]
  },
  {
   "cell_type": "markdown",
   "metadata": {},
   "source": [
    "## 問2.5 (文字列)\n",
    "### Python では文字列型に対して便利な組み込み関数が多数定義されています(公式のドキュメント)。組み込み関数を使って以下の処理を行って下さい。\n",
    "\n",
    "1. `str.join()` を使って、0 から 99 までの数をスペース区切りで並べた文字列 `\"0 1 2 3 4 ... 99\"` を構成して下さい。\n",
    "2. `str.format()` を使って float の値 `(1.0 / 7.0)` の小数点以下9桁までを表示して下さい。"
   ]
  },
  {
   "cell_type": "code",
   "execution_count": 46,
   "metadata": {},
   "outputs": [
    {
     "ename": "TypeError",
     "evalue": "sequence item 0: expected str instance, int found",
     "output_type": "error",
     "traceback": [
      "\u001b[0;31m---------------------------------------------------------------------------\u001b[0m",
      "\u001b[0;31mTypeError\u001b[0m                                 Traceback (most recent call last)",
      "\u001b[0;32m<ipython-input-46-5dcf51490e79>\u001b[0m in \u001b[0;36m<module>\u001b[0;34m\u001b[0m\n\u001b[1;32m      1\u001b[0m \u001b[0mb\u001b[0m \u001b[0;34m=\u001b[0m \u001b[0;34m[\u001b[0m\u001b[0mx\u001b[0m \u001b[0;32mfor\u001b[0m \u001b[0mx\u001b[0m \u001b[0;32min\u001b[0m \u001b[0mrange\u001b[0m\u001b[0;34m(\u001b[0m\u001b[0;36m100\u001b[0m\u001b[0;34m)\u001b[0m\u001b[0;34m]\u001b[0m\u001b[0;34m\u001b[0m\u001b[0m\n\u001b[0;32m----> 2\u001b[0;31m \u001b[0mprint\u001b[0m\u001b[0;34m(\u001b[0m\u001b[0;34m' '\u001b[0m\u001b[0;34m.\u001b[0m\u001b[0mjoin\u001b[0m\u001b[0;34m(\u001b[0m\u001b[0mb\u001b[0m\u001b[0;34m)\u001b[0m\u001b[0;34m)\u001b[0m\u001b[0;34m\u001b[0m\u001b[0m\n\u001b[0m",
      "\u001b[0;31mTypeError\u001b[0m: sequence item 0: expected str instance, int found"
     ]
    }
   ],
   "source": [
    "# 1\n",
    "b = [x for x in range(100)]\n",
    "print(' '.join(b))"
   ]
  },
  {
   "cell_type": "code",
   "execution_count": 47,
   "metadata": {},
   "outputs": [
    {
     "name": "stdout",
     "output_type": "stream",
     "text": [
      "0 1 2 3 4 5 6 7 8 9 10 11 12 13 14 15 16 17 18 19 20 21 22 23 24 25 26 27 28 29 30 31 32 33 34 35 36 37 38 39 40 41 42 43 44 45 46 47 48 49 50 51 52 53 54 55 56 57 58 59 60 61 62 63 64 65 66 67 68 69 70 71 72 73 74 75 76 77 78 79 80 81 82 83 84 85 86 87 88 89 90 91 92 93 94 95 96 97 98 99\n"
     ]
    }
   ],
   "source": [
    "# リスト内要素が数値型なのでエラーが出た\n",
    "b_str = map(str, b)\n",
    "print(' '.join(b_str))"
   ]
  },
  {
   "cell_type": "code",
   "execution_count": 48,
   "metadata": {},
   "outputs": [
    {
     "name": "stdout",
     "output_type": "stream",
     "text": [
      "0.142857143\n"
     ]
    }
   ],
   "source": [
    "# 2\n",
    "print('{:.9f}'.format(1.0 / 7.0))"
   ]
  },
  {
   "cell_type": "markdown",
   "metadata": {},
   "source": [
    "## 問2.6 (クラス)\n",
    "### クラスを実装する練習として、データを管理するクラスを実装してみましょう。 次のメソッドを全て持つクラス DataManager を記述して下さい。\n",
    "\n",
    "- `__init__(self, x, y, z)`: 3つの数 `x, y, z` をコンストラクタで受け取り、インスタンスの属性でそれぞれの値を記憶する。\n",
    "- `add_x(self, delta)`: `x` に `delta` だけ足して、値を更新する。\n",
    "- `add_y(self, delta)`: `y` に `delta` だけ足して、値を更新する。\n",
    "- `add_z(self, delta)`: `z` に `delta` だけ足して、値を更新する。\n",
    "- `sum(self)`: `x, y, z` の3つの数の合計値を返す。\n",
    "\n",
    "```\n",
    "data_manager = DataManager(2, 3, 5)  \n",
    "print(data_manager.sum())  # => 10  \n",
    "data_manager.add_x(4)       # => data_manager.x の値が 2 から 6 に更新される  \n",
    "print(data_manager.sum())  # => 14  \n",
    "data_manager.add_y(0)       # => data_manager.y の値が 3 から 3 に更新される  \n",
    "print(data_manager.sum())  # => 14  \n",
    "data_manager.add_z(-9)      # => data_manager.z の値が 5 から -4 に更新される  \n",
    "print(data_manager.sum())  # => 5\n",
    "```"
   ]
  },
  {
   "cell_type": "code",
   "execution_count": 75,
   "metadata": {},
   "outputs": [],
   "source": [
    "class DataManager:\n",
    "    \n",
    "    # __init__(self, x, y, z): 3つの数 x, y, z をコンストラクタで受け取り、インスタンスの属性でそれぞれの値を記憶する。\n",
    "    def __init__(self, x, y, z):\n",
    "        self.x = x\n",
    "        self.y = y\n",
    "        self.z = z\n",
    "    \n",
    "    # add_x(self, delta): x に delta だけ足して、値を更新する。\n",
    "    def add_x(self, delta):\n",
    "        self.x = self.x + delta\n",
    "    \n",
    "    # add_y(self, delta): y に delta だけ足して、値を更新する。\n",
    "    def add_y(self, delta):\n",
    "        self.y = self.y + delta\n",
    "    \n",
    "    # add_z(self, delta): z に delta だけ足して、値を更新する。\n",
    "    def add_z(self, delta):\n",
    "        self.z = self.z + delta\n",
    "    \n",
    "    # sum(self): x, y, z の3つの数の合計値を返す。\n",
    "    def sum(self):\n",
    "        return self.x + self.y + self.z"
   ]
  },
  {
   "cell_type": "code",
   "execution_count": 77,
   "metadata": {},
   "outputs": [
    {
     "name": "stdout",
     "output_type": "stream",
     "text": [
      "10\n",
      "14\n",
      "14\n",
      "5\n"
     ]
    }
   ],
   "source": [
    "data_manager = DataManager(2, 3, 5)\n",
    "print(data_manager.sum())           # => 10\n",
    "data_manager.add_x(4)                # => data_manager.x の値が 2 から 6 に更新される\n",
    "print(data_manager.sum())           # => 14\n",
    "data_manager.add_y(0)                # => data_manager.y の値が 3 から 3 に更新される\n",
    "print(data_manager.sum())           # => 14\n",
    "data_manager.add_z(-9)               # => data_manager.z の値が 5 から -4 に更新される\n",
    "print(data_manager.sum())           # => 5"
   ]
  },
  {
   "cell_type": "markdown",
   "metadata": {},
   "source": [
    "## 問2.7 (関数呼び出し)\n",
    "### 以下で定義される関数 f, g があるとします。\n",
    "\n",
    "```\n",
    "def f(a):           \n",
    "    a = [6, 7, 8]\n",
    "```\n",
    "```\n",
    "def g(a):          \n",
    "    a.append(1)\n",
    "```\n",
    "    \n",
    "### これらに対し、次のコードの実行結果がどうなるか予想して下さい。実際にコードを実行して予想と一致しているか確認し、なぜそのような結果になったのか説明して下さい。\n",
    "\n",
    "```\n",
    "def somefunction():  \n",
    "    a0 = [1, 2, 3]  \n",
    "    f(a0)  \n",
    "    print(a0)\n",
    "    \n",
    "    a1 = [1, 2, 3]  \n",
    "    g(a1)  \n",
    "    print(a1)\n",
    "\n",
    "somefunction()\n",
    "```"
   ]
  },
  {
   "cell_type": "code",
   "execution_count": 78,
   "metadata": {},
   "outputs": [],
   "source": [
    "def f(a):\n",
    "    a = [6, 7, 8]\n",
    "\n",
    "def g(a):\n",
    "    a.append(1)"
   ]
  },
  {
   "cell_type": "code",
   "execution_count": 79,
   "metadata": {},
   "outputs": [
    {
     "name": "stdout",
     "output_type": "stream",
     "text": [
      "[1, 2, 3]\n",
      "[1, 2, 3, 1]\n"
     ]
    }
   ],
   "source": [
    "def somefunction():\n",
    "    a0 = [1, 2, 3]\n",
    "    f(a0)\n",
    "    print(a0)\n",
    "\n",
    "    a1 = [1, 2, 3]\n",
    "    g(a1)\n",
    "    print(a1)\n",
    "\n",
    "somefunction()"
   ]
  },
  {
   "cell_type": "markdown",
   "metadata": {},
   "source": [
    "## 問2.8 (制御構文)\n",
    "### 2以上の整数 `p` が素数であるとは、「どんな `2` 以上 `p-1` 以下の整数 `k` に対しても `p` は `k` で割り切れない」が成り立つことを指します。素数を小さい順から列挙すると、`2`, `3`, `5`, `7`, `11`, `13`, `17`, ... となります。 チュートリアルで学んだ制御構文である `if` や `for` を用いて、`2` から `100` までに含まれる素数を列挙して下さい。"
   ]
  },
  {
   "cell_type": "code",
   "execution_count": 82,
   "metadata": {},
   "outputs": [
    {
     "name": "stdout",
     "output_type": "stream",
     "text": [
      "[2, 3, 5, 7, 11, 13, 17, 19, 23, 29, 31, 37, 41, 43, 47, 53, 59, 61, 67, 71, 73, 79, 83, 89, 97]\n"
     ]
    }
   ],
   "source": [
    "prime = []\n",
    "for i in range(2,101):              # 2~100での判定\n",
    "    sosu = True                          # sosuフラグを立てる\n",
    "    for n in range(2, i):\n",
    "        if i ==2 and i % 2 ==0:    # 2と2で割り切れる数字（偶数）は素数ではないので除外\n",
    "            sosu = False\n",
    "            break\n",
    "        if i % n == 0:\n",
    "            sosu = False\n",
    "            break\n",
    "    if sosu:\n",
    "        prime.append(i)\n",
    "print(prime)"
   ]
  }
 ],
 "metadata": {
  "kernelspec": {
   "display_name": "Python 3",
   "language": "python",
   "name": "python3"
  },
  "language_info": {
   "codemirror_mode": {
    "name": "ipython",
    "version": 3
   },
   "file_extension": ".py",
   "mimetype": "text/x-python",
   "name": "python",
   "nbconvert_exporter": "python",
   "pygments_lexer": "ipython3",
   "version": "3.6.6"
  }
 },
 "nbformat": 4,
 "nbformat_minor": 2
}
